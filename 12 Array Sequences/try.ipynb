{
 "cells": [
  {
   "cell_type": "code",
   "execution_count": 2,
   "metadata": {},
   "outputs": [],
   "source": [
    "a = [5,6,7]\n",
    "\n",
    "l1 = [1,2,3,4]\n",
    "\n",
    "l1.extend(a)"
   ]
  },
  {
   "cell_type": "code",
   "execution_count": 3,
   "metadata": {},
   "outputs": [
    {
     "data": {
      "text/plain": [
       "[1, 2, 3, 4, 5, 6, 7]"
      ]
     },
     "execution_count": 3,
     "metadata": {},
     "output_type": "execute_result"
    }
   ],
   "source": [
    "l1"
   ]
  },
  {
   "cell_type": "code",
   "execution_count": 6,
   "metadata": {},
   "outputs": [
    {
     "data": {
      "text/plain": [
       "[1, 6, 7]"
      ]
     },
     "execution_count": 6,
     "metadata": {},
     "output_type": "execute_result"
    }
   ],
   "source": [
    "a[0] = 1\n",
    "a"
   ]
  },
  {
   "cell_type": "code",
   "execution_count": 8,
   "metadata": {},
   "outputs": [],
   "source": [
    "l1[-1] = 11"
   ]
  },
  {
   "cell_type": "code",
   "execution_count": 9,
   "metadata": {},
   "outputs": [
    {
     "data": {
      "text/plain": [
       "[1, 2, 3, 4, 5, 6, 11]"
      ]
     },
     "execution_count": 9,
     "metadata": {},
     "output_type": "execute_result"
    }
   ],
   "source": [
    "l1"
   ]
  },
  {
   "cell_type": "code",
   "execution_count": 10,
   "metadata": {},
   "outputs": [
    {
     "data": {
      "text/plain": [
       "[1, 6, 7]"
      ]
     },
     "execution_count": 10,
     "metadata": {},
     "output_type": "execute_result"
    }
   ],
   "source": [
    "a"
   ]
  },
  {
   "cell_type": "code",
   "execution_count": 11,
   "metadata": {},
   "outputs": [],
   "source": [
    "a = [1,2,3,4]\n",
    "\n",
    "b = a"
   ]
  },
  {
   "cell_type": "code",
   "execution_count": 12,
   "metadata": {},
   "outputs": [
    {
     "data": {
      "text/plain": [
       "[1, 2, 3, 4]"
      ]
     },
     "execution_count": 12,
     "metadata": {},
     "output_type": "execute_result"
    }
   ],
   "source": [
    "b"
   ]
  },
  {
   "cell_type": "code",
   "execution_count": 13,
   "metadata": {},
   "outputs": [
    {
     "data": {
      "text/plain": [
       "[1, 2, 3, 4]"
      ]
     },
     "execution_count": 13,
     "metadata": {},
     "output_type": "execute_result"
    }
   ],
   "source": [
    "a"
   ]
  },
  {
   "cell_type": "code",
   "execution_count": 14,
   "metadata": {},
   "outputs": [],
   "source": [
    "b[0] = 11"
   ]
  },
  {
   "cell_type": "code",
   "execution_count": 15,
   "metadata": {},
   "outputs": [
    {
     "data": {
      "text/plain": [
       "[11, 2, 3, 4]"
      ]
     },
     "execution_count": 15,
     "metadata": {},
     "output_type": "execute_result"
    }
   ],
   "source": [
    "b"
   ]
  },
  {
   "cell_type": "code",
   "execution_count": 16,
   "metadata": {},
   "outputs": [
    {
     "data": {
      "text/plain": [
       "[11, 2, 3, 4]"
      ]
     },
     "execution_count": 16,
     "metadata": {},
     "output_type": "execute_result"
    }
   ],
   "source": [
    "a"
   ]
  },
  {
   "cell_type": "code",
   "execution_count": null,
   "metadata": {},
   "outputs": [],
   "source": [
    "testing .gitignore"
   ]
  },
  {
   "cell_type": "markdown",
   "metadata": {},
   "source": [
    "# New Session"
   ]
  },
  {
   "cell_type": "code",
   "execution_count": 4,
   "metadata": {
    "collapsed": true
   },
   "outputs": [
    {
     "name": "stdout",
     "output_type": "stream",
     "text": [
      "Length:   0; Size in bytes:   64\n",
      "Length:   1; Size in bytes:   96\n",
      "Length:   2; Size in bytes:   96\n",
      "Length:   3; Size in bytes:   96\n",
      "Length:   4; Size in bytes:   96\n",
      "Length:   5; Size in bytes:  128\n",
      "Length:   6; Size in bytes:  128\n",
      "Length:   7; Size in bytes:  128\n",
      "Length:   8; Size in bytes:  128\n",
      "Length:   9; Size in bytes:  192\n",
      "Length:  10; Size in bytes:  192\n",
      "Length:  11; Size in bytes:  192\n",
      "Length:  12; Size in bytes:  192\n",
      "Length:  13; Size in bytes:  192\n",
      "Length:  14; Size in bytes:  192\n",
      "Length:  15; Size in bytes:  192\n",
      "Length:  16; Size in bytes:  192\n",
      "Length:  17; Size in bytes:  264\n",
      "Length:  18; Size in bytes:  264\n",
      "Length:  19; Size in bytes:  264\n",
      "Length:  20; Size in bytes:  264\n",
      "Length:  21; Size in bytes:  264\n",
      "Length:  22; Size in bytes:  264\n",
      "Length:  23; Size in bytes:  264\n",
      "Length:  24; Size in bytes:  264\n",
      "Length:  25; Size in bytes:  264\n",
      "Length:  26; Size in bytes:  344\n",
      "Length:  27; Size in bytes:  344\n",
      "Length:  28; Size in bytes:  344\n",
      "Length:  29; Size in bytes:  344\n",
      "Length:  30; Size in bytes:  344\n",
      "Length:  31; Size in bytes:  344\n",
      "Length:  32; Size in bytes:  344\n",
      "Length:  33; Size in bytes:  344\n",
      "Length:  34; Size in bytes:  344\n",
      "Length:  35; Size in bytes:  344\n",
      "Length:  36; Size in bytes:  432\n",
      "Length:  37; Size in bytes:  432\n",
      "Length:  38; Size in bytes:  432\n",
      "Length:  39; Size in bytes:  432\n",
      "Length:  40; Size in bytes:  432\n",
      "Length:  41; Size in bytes:  432\n",
      "Length:  42; Size in bytes:  432\n",
      "Length:  43; Size in bytes:  432\n",
      "Length:  44; Size in bytes:  432\n",
      "Length:  45; Size in bytes:  432\n",
      "Length:  46; Size in bytes:  432\n",
      "Length:  47; Size in bytes:  528\n",
      "Length:  48; Size in bytes:  528\n",
      "Length:  49; Size in bytes:  528\n",
      "Length:  50; Size in bytes:  528\n",
      "Length:  51; Size in bytes:  528\n",
      "Length:  52; Size in bytes:  528\n",
      "Length:  53; Size in bytes:  528\n",
      "Length:  54; Size in bytes:  528\n",
      "Length:  55; Size in bytes:  528\n",
      "Length:  56; Size in bytes:  528\n",
      "Length:  57; Size in bytes:  528\n",
      "Length:  58; Size in bytes:  528\n",
      "Length:  59; Size in bytes:  640\n",
      "Length:  60; Size in bytes:  640\n",
      "Length:  61; Size in bytes:  640\n",
      "Length:  62; Size in bytes:  640\n",
      "Length:  63; Size in bytes:  640\n",
      "Length:  64; Size in bytes:  640\n",
      "Length:  65; Size in bytes:  640\n",
      "Length:  66; Size in bytes:  640\n",
      "Length:  67; Size in bytes:  640\n",
      "Length:  68; Size in bytes:  640\n",
      "Length:  69; Size in bytes:  640\n",
      "Length:  70; Size in bytes:  640\n",
      "Length:  71; Size in bytes:  640\n",
      "Length:  72; Size in bytes:  640\n",
      "Length:  73; Size in bytes:  768\n",
      "Length:  74; Size in bytes:  768\n",
      "Length:  75; Size in bytes:  768\n",
      "Length:  76; Size in bytes:  768\n",
      "Length:  77; Size in bytes:  768\n",
      "Length:  78; Size in bytes:  768\n",
      "Length:  79; Size in bytes:  768\n",
      "Length:  80; Size in bytes:  768\n",
      "Length:  81; Size in bytes:  768\n",
      "Length:  82; Size in bytes:  768\n",
      "Length:  83; Size in bytes:  768\n",
      "Length:  84; Size in bytes:  768\n",
      "Length:  85; Size in bytes:  768\n",
      "Length:  86; Size in bytes:  768\n",
      "Length:  87; Size in bytes:  768\n",
      "Length:  88; Size in bytes:  768\n",
      "Length:  89; Size in bytes:  912\n",
      "Length:  90; Size in bytes:  912\n",
      "Length:  91; Size in bytes:  912\n",
      "Length:  92; Size in bytes:  912\n",
      "Length:  93; Size in bytes:  912\n",
      "Length:  94; Size in bytes:  912\n",
      "Length:  95; Size in bytes:  912\n",
      "Length:  96; Size in bytes:  912\n",
      "Length:  97; Size in bytes:  912\n",
      "Length:  98; Size in bytes:  912\n",
      "Length:  99; Size in bytes:  912\n"
     ]
    },
    {
     "data": {
      "text/plain": [
       "[100,\n",
       " 100,\n",
       " 100,\n",
       " 100,\n",
       " 100,\n",
       " 100,\n",
       " 100,\n",
       " 100,\n",
       " 100,\n",
       " 100,\n",
       " 100,\n",
       " 100,\n",
       " 100,\n",
       " 100,\n",
       " 100,\n",
       " 100,\n",
       " 100,\n",
       " 100,\n",
       " 100,\n",
       " 100,\n",
       " 100,\n",
       " 100,\n",
       " 100,\n",
       " 100,\n",
       " 100,\n",
       " 100,\n",
       " 100,\n",
       " 100,\n",
       " 100,\n",
       " 100,\n",
       " 100,\n",
       " 100,\n",
       " 100,\n",
       " 100,\n",
       " 100,\n",
       " 100,\n",
       " 100,\n",
       " 100,\n",
       " 100,\n",
       " 100,\n",
       " 100,\n",
       " 100,\n",
       " 100,\n",
       " 100,\n",
       " 100,\n",
       " 100,\n",
       " 100,\n",
       " 100,\n",
       " 100,\n",
       " 100,\n",
       " 100,\n",
       " 100,\n",
       " 100,\n",
       " 100,\n",
       " 100,\n",
       " 100,\n",
       " 100,\n",
       " 100,\n",
       " 100,\n",
       " 100,\n",
       " 100,\n",
       " 100,\n",
       " 100,\n",
       " 100,\n",
       " 100,\n",
       " 100,\n",
       " 100,\n",
       " 100,\n",
       " 100,\n",
       " 100,\n",
       " 100,\n",
       " 100,\n",
       " 100,\n",
       " 100,\n",
       " 100,\n",
       " 100,\n",
       " 100,\n",
       " 100,\n",
       " 100,\n",
       " 100,\n",
       " 100,\n",
       " 100,\n",
       " 100,\n",
       " 100,\n",
       " 100,\n",
       " 100,\n",
       " 100,\n",
       " 100,\n",
       " 100,\n",
       " 100,\n",
       " 100,\n",
       " 100,\n",
       " 100,\n",
       " 100,\n",
       " 100,\n",
       " 100,\n",
       " 100,\n",
       " 100,\n",
       " 100,\n",
       " 100]"
      ]
     },
     "execution_count": 4,
     "metadata": {},
     "output_type": "execute_result"
    }
   ],
   "source": [
    "import sys\n",
    "\n",
    "n = 100\n",
    "\n",
    "data = []\n",
    "\n",
    "for i in range(n):\n",
    "    \n",
    "    a = len(data)\n",
    "    \n",
    "    b = sys.getsizeof(data)\n",
    "    \n",
    "    print('Length: {0:3d}; Size in bytes: {1:4d}'.format(a, b))\n",
    "    \n",
    "    data.append(n)\n",
    "data"
   ]
  },
  {
   "cell_type": "code",
   "execution_count": 5,
   "metadata": {},
   "outputs": [],
   "source": [
    "class M(object):\n",
    "    \n",
    "    def public(self):\n",
    "        print('public')\n",
    "    def _private(self):\n",
    "        print('private')"
   ]
  },
  {
   "cell_type": "code",
   "execution_count": 6,
   "metadata": {},
   "outputs": [],
   "source": [
    "m = M()"
   ]
  },
  {
   "cell_type": "code",
   "execution_count": 9,
   "metadata": {},
   "outputs": [
    {
     "name": "stdout",
     "output_type": "stream",
     "text": [
      "public\n"
     ]
    }
   ],
   "source": [
    "m.public()"
   ]
  },
  {
   "cell_type": "code",
   "execution_count": 14,
   "metadata": {},
   "outputs": [],
   "source": [
    "import ctypes\n",
    "\n",
    "\n",
    "class DynamicArray(object):\n",
    "    \n",
    "    def __init__(self):\n",
    "        \n",
    "        self.n = 0\n",
    "        self.capacity = 1\n",
    "        self.A = self.make_array(self.capacity)\n",
    "    \n",
    "    def __len__(self):\n",
    "        return self.n\n",
    "    \n",
    "    def __getitem__(self, k):\n",
    "        \n",
    "        if not 0 <= k < self.n:\n",
    "            return IndexError('K is out of index')\n",
    "        \n",
    "        return self.A[k]\n",
    "    \n",
    "    def append(self, ele):\n",
    "        \n",
    "        if self.n == self.capacity:\n",
    "            self._resize(2*self.capacity) #2x if capacity is exceeded\n",
    "        \n",
    "        self.A[self.n] = ele\n",
    "        self.n += 1\n",
    "    \n",
    "    def _resize(self, new_cap):\n",
    "        \n",
    "        B = self.make_array(new_cap)\n",
    "        \n",
    "        for k in range(self.n):\n",
    "            B[k] = self.A[k]\n",
    "        \n",
    "        self.A = B\n",
    "        self.capacity = new_cap\n",
    "    \n",
    "    def make_array(self, new_cap):\n",
    "        \n",
    "        return (new_cap * ctypes.py_object)()"
   ]
  },
  {
   "cell_type": "code",
   "execution_count": 15,
   "metadata": {},
   "outputs": [],
   "source": [
    "arr = DynamicArray()"
   ]
  },
  {
   "cell_type": "code",
   "execution_count": 16,
   "metadata": {},
   "outputs": [],
   "source": [
    "arr.append(1)"
   ]
  },
  {
   "cell_type": "code",
   "execution_count": 17,
   "metadata": {},
   "outputs": [
    {
     "data": {
      "text/plain": [
       "<__main__.DynamicArray at 0x7fbbe43d3550>"
      ]
     },
     "execution_count": 17,
     "metadata": {},
     "output_type": "execute_result"
    }
   ],
   "source": [
    "arr"
   ]
  },
  {
   "cell_type": "code",
   "execution_count": 18,
   "metadata": {},
   "outputs": [
    {
     "data": {
      "text/plain": [
       "1"
      ]
     },
     "execution_count": 18,
     "metadata": {},
     "output_type": "execute_result"
    }
   ],
   "source": [
    "len(arr)"
   ]
  },
  {
   "cell_type": "code",
   "execution_count": 19,
   "metadata": {},
   "outputs": [],
   "source": [
    "arr.append(2)"
   ]
  },
  {
   "cell_type": "code",
   "execution_count": 20,
   "metadata": {},
   "outputs": [
    {
     "data": {
      "text/plain": [
       "2"
      ]
     },
     "execution_count": 20,
     "metadata": {},
     "output_type": "execute_result"
    }
   ],
   "source": [
    "len(arr)"
   ]
  },
  {
   "cell_type": "code",
   "execution_count": 21,
   "metadata": {},
   "outputs": [
    {
     "data": {
      "text/plain": [
       "1"
      ]
     },
     "execution_count": 21,
     "metadata": {},
     "output_type": "execute_result"
    }
   ],
   "source": [
    "arr[0]"
   ]
  },
  {
   "cell_type": "code",
   "execution_count": 22,
   "metadata": {},
   "outputs": [
    {
     "data": {
      "text/plain": [
       "2"
      ]
     },
     "execution_count": 22,
     "metadata": {},
     "output_type": "execute_result"
    }
   ],
   "source": [
    "arr[1]"
   ]
  },
  {
   "cell_type": "code",
   "execution_count": 24,
   "metadata": {},
   "outputs": [
    {
     "data": {
      "text/plain": [
       "56"
      ]
     },
     "execution_count": 24,
     "metadata": {},
     "output_type": "execute_result"
    }
   ],
   "source": [
    "sys.getsizeof(arr)"
   ]
  },
  {
   "cell_type": "code",
   "execution_count": 34,
   "metadata": {},
   "outputs": [
    {
     "data": {
      "text/plain": [
       "<__main__.DynamicArray at 0x7fbbe43d3550>"
      ]
     },
     "execution_count": 34,
     "metadata": {},
     "output_type": "execute_result"
    }
   ],
   "source": [
    "arr"
   ]
  },
  {
   "cell_type": "code",
   "execution_count": 52,
   "metadata": {},
   "outputs": [],
   "source": [
    "for i in range(1000):\n",
    "\n",
    "    arr.append(i)"
   ]
  },
  {
   "cell_type": "code",
   "execution_count": 45,
   "metadata": {},
   "outputs": [
    {
     "data": {
      "text/plain": [
       "1006"
      ]
     },
     "execution_count": 45,
     "metadata": {},
     "output_type": "execute_result"
    }
   ],
   "source": [
    "len(arr)"
   ]
  },
  {
   "cell_type": "code",
   "execution_count": 49,
   "metadata": {},
   "outputs": [
    {
     "data": {
      "text/plain": [
       "28"
      ]
     },
     "execution_count": 49,
     "metadata": {},
     "output_type": "execute_result"
    }
   ],
   "source": [
    "sys.getsizeof(arr[1000])"
   ]
  },
  {
   "cell_type": "code",
   "execution_count": 48,
   "metadata": {},
   "outputs": [
    {
     "data": {
      "text/plain": [
       "994"
      ]
     },
     "execution_count": 48,
     "metadata": {},
     "output_type": "execute_result"
    }
   ],
   "source": [
    "arr[1000]"
   ]
  },
  {
   "cell_type": "code",
   "execution_count": 50,
   "metadata": {},
   "outputs": [
    {
     "data": {
      "text/plain": [
       "1006"
      ]
     },
     "execution_count": 50,
     "metadata": {},
     "output_type": "execute_result"
    }
   ],
   "source": [
    "len(arr)"
   ]
  },
  {
   "cell_type": "code",
   "execution_count": 53,
   "metadata": {},
   "outputs": [
    {
     "data": {
      "text/plain": [
       "2048"
      ]
     },
     "execution_count": 53,
     "metadata": {},
     "output_type": "execute_result"
    }
   ],
   "source": [
    "arr.capacity"
   ]
  },
  {
   "cell_type": "code",
   "execution_count": null,
   "metadata": {},
   "outputs": [],
   "source": []
  },
  {
   "cell_type": "markdown",
   "metadata": {},
   "source": [
    "# Practise"
   ]
  },
  {
   "cell_type": "code",
   "execution_count": 9,
   "metadata": {
    "scrolled": true
   },
   "outputs": [
    {
     "name": "stdout",
     "output_type": "stream",
     "text": [
      "Length: 0; Size in bytes: 64\n",
      "Length: 1; Size in bytes: 96\n",
      "Length: 2; Size in bytes: 96\n",
      "Length: 3; Size in bytes: 96\n",
      "Length: 4; Size in bytes: 96\n",
      "Length: 5; Size in bytes: 128\n",
      "Length: 6; Size in bytes: 128\n",
      "Length: 7; Size in bytes: 128\n",
      "Length: 8; Size in bytes: 128\n",
      "Length: 9; Size in bytes: 192\n",
      "Length: 10; Size in bytes: 192\n",
      "Length: 11; Size in bytes: 192\n",
      "Length: 12; Size in bytes: 192\n",
      "Length: 13; Size in bytes: 192\n",
      "Length: 14; Size in bytes: 192\n",
      "Length: 15; Size in bytes: 192\n",
      "Length: 16; Size in bytes: 192\n",
      "Length: 17; Size in bytes: 264\n",
      "Length: 18; Size in bytes: 264\n",
      "Length: 19; Size in bytes: 264\n",
      "Length: 20; Size in bytes: 264\n",
      "Length: 21; Size in bytes: 264\n",
      "Length: 22; Size in bytes: 264\n",
      "Length: 23; Size in bytes: 264\n",
      "Length: 24; Size in bytes: 264\n",
      "Length: 25; Size in bytes: 264\n",
      "Length: 26; Size in bytes: 344\n",
      "Length: 27; Size in bytes: 344\n",
      "Length: 28; Size in bytes: 344\n",
      "Length: 29; Size in bytes: 344\n",
      "Length: 30; Size in bytes: 344\n",
      "Length: 31; Size in bytes: 344\n",
      "Length: 32; Size in bytes: 344\n",
      "Length: 33; Size in bytes: 344\n",
      "Length: 34; Size in bytes: 344\n",
      "Length: 35; Size in bytes: 344\n",
      "Length: 36; Size in bytes: 432\n",
      "Length: 37; Size in bytes: 432\n",
      "Length: 38; Size in bytes: 432\n",
      "Length: 39; Size in bytes: 432\n",
      "Length: 40; Size in bytes: 432\n",
      "Length: 41; Size in bytes: 432\n",
      "Length: 42; Size in bytes: 432\n",
      "Length: 43; Size in bytes: 432\n",
      "Length: 44; Size in bytes: 432\n",
      "Length: 45; Size in bytes: 432\n",
      "Length: 46; Size in bytes: 432\n",
      "Length: 47; Size in bytes: 528\n",
      "Length: 48; Size in bytes: 528\n",
      "Length: 49; Size in bytes: 528\n"
     ]
    }
   ],
   "source": [
    "import sys\n",
    "\n",
    "n = 50\n",
    "data = []\n",
    "\n",
    "for i in range(n):\n",
    "    a = len(data)\n",
    "    b = sys.getsizeof(data)\n",
    "    \n",
    "    print('Length: {}; Size in bytes: {}'.format(a, b))\n",
    "    \n",
    "    data.append(i)"
   ]
  },
  {
   "cell_type": "markdown",
   "metadata": {},
   "source": [
    "# Dynamic Array Implementation"
   ]
  },
  {
   "cell_type": "code",
   "execution_count": 11,
   "metadata": {},
   "outputs": [],
   "source": [
    "import ctypes"
   ]
  },
  {
   "cell_type": "code",
   "execution_count": null,
   "metadata": {},
   "outputs": [],
   "source": [
    "class DynamicArray(object):\n",
    "    \n",
    "    def __init__(self):\n",
    "        \n",
    "        self.n = 0\n",
    "        self.capacity = 1\n",
    "        self.A = self.make_array(self.capacity)\n",
    "    \n",
    "    def __len__(self):\n",
    "        return self.n\n",
    "    \n",
    "    def __getitem__(self, k):\n",
    "        \n",
    "        if not 0 <= k < self.n:\n",
    "            return IndexError('K is out of bounds!')\n",
    "        \n",
    "        return self.A[k]\n",
    "    \n",
    "    def append(self, ele):\n",
    "        \n",
    "        if self.n == self.capacity:\n",
    "            self._resize(2*self.capacity)\n",
    "        \n",
    "        self.A[se]"
   ]
  }
 ],
 "metadata": {
  "kernelspec": {
   "display_name": "Python 3",
   "language": "python",
   "name": "python3"
  },
  "language_info": {
   "codemirror_mode": {
    "name": "ipython",
    "version": 3
   },
   "file_extension": ".py",
   "mimetype": "text/x-python",
   "name": "python",
   "nbconvert_exporter": "python",
   "pygments_lexer": "ipython3",
   "version": "3.6.5"
  }
 },
 "nbformat": 4,
 "nbformat_minor": 2
}
