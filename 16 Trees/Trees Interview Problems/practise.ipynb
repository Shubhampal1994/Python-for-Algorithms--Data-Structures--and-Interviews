{
 "cells": [
  {
   "cell_type": "markdown",
   "metadata": {},
   "source": [
    "# Binary Search Tree Check \n",
    "\n",
    "## Problem Statement\n",
    "\n",
    "Given a binary tree, check whether it’s a binary search tree or not.\n",
    "\n",
    "** Again, no solution cell, just worry about your code making sense logically. Hint: Think about tree traversals. **\n",
    "\n",
    "## Solution\n",
    "\n",
    "Fill out your solution below:"
   ]
  },
  {
   "cell_type": "code",
   "execution_count": 1,
   "metadata": {},
   "outputs": [],
   "source": [
    "class TreeNode:\n",
    "    \n",
    "    def __init__(self,key,left=None,right=None,parent=None):\n",
    "        self.key = key\n",
    "        self.leftChild = left\n",
    "        self.rightChild = right\n",
    "        self.parent = parent\n",
    "\n",
    "    def hasLeftChild(self):\n",
    "        return self.leftChild\n",
    "\n",
    "    def hasRightChild(self):\n",
    "        return self.rightChild\n",
    "\n",
    "    def isLeftChild(self):\n",
    "        return self.parent and self.parent.leftChild == self\n",
    "\n",
    "    def isRightChild(self):\n",
    "        return self.parent and self.parent.rightChild == self\n",
    "\n",
    "    def isRoot(self):\n",
    "        return not self.parent\n",
    "\n",
    "    def isLeaf(self):\n",
    "        return not (self.rightChild or self.leftChild)\n",
    "\n",
    "    def hasAnyChildren(self):\n",
    "        return self.rightChild or self.leftChild\n",
    "\n",
    "    def hasBothChildren(self):\n",
    "        return self.rightChild and self.leftChild\n",
    "\n",
    "    def replaceNodeData(self,key,lc,rc):\n",
    "        self.key = key\n",
    "        self.leftChild = lc\n",
    "        self.rightChild = rc\n",
    "        if self.hasLeftChild():\n",
    "            self.leftChild.parent = self\n",
    "        if self.hasRightChild():\n",
    "            self.rightChild.parent = self\n",
    "    \n",
    "    def insertLeft(self, newNode):\n",
    "        \n",
    "        if self.leftChild == None:\n",
    "            self.leftChild = TreeNode(newNode)\n",
    "        else:\n",
    "            t = BinaryTree(newNode)\n",
    "            t.leftChild = self.leftChild\n",
    "            self.leftChild = t\n",
    "    \n",
    "    def insertRight(self, newNode):\n",
    "        \n",
    "        if self.rightChild == None:\n",
    "            self.rightChild = BinaryTree(newNode)\n",
    "        else:\n",
    "            t = BinaryTree(newNode)\n",
    "            t.rightChild = self.rightChild\n",
    "            self.rightChild = t\n",
    "    \n",
    "    def getRightChild(self):\n",
    "        return self.rightChild\n",
    "    \n",
    "    def getLeftChild(self):\n",
    "        return self.leftChild\n",
    "    \n",
    "    def setRootVal(self, obj):\n",
    "        self.key = obj\n",
    "    \n",
    "    def getRootVal(self):\n",
    "        return self.key\n",
    "\n",
    "\n",
    "\n",
    "class BinaryTree(object):\n",
    "    \n",
    "    def __init__(self, rootObj):\n",
    "        \n",
    "        self.key = rootObj\n",
    "        self.leftChild = None\n",
    "        self.rightChild = None\n",
    "    \n",
    "    def __iter__(self):\n",
    "        if self:\n",
    "            if self.hasLeftChild():\n",
    "                for elem in self.leftChild:\n",
    "                    yield elem\n",
    "            yield self.key\n",
    "            if self.hasRightChild():\n",
    "                for elem in self.rightChild:\n",
    "                    yield elem\n",
    "        \n",
    "    \n",
    "def inOrder(tree):\n",
    "    \n",
    "    if tree.leftChild:\n",
    "        inOrder(tree.leftChild)\n",
    "    print(tree.key)\n",
    "    if tree.rightChild:\n",
    "        inOrder(tree.rightChild)\n",
    "        \n",
    "\n",
    "\n",
    "def validBST(tree):\n",
    "    root = tree.key\n",
    "    if root.hasLeftChild():\n",
    "        if root.leftChild.key < root.key:\n",
    "            validBST(root.leftChild)\n",
    "        else:\n",
    "            return False\n",
    "    \n",
    "    elif root.hasRightChild():\n",
    "        if root.rightChild.key > root.key:\n",
    "            validBST(root.rightChild)\n",
    "        else:\n",
    "            return False\n",
    "    \n",
    "    else:\n",
    "        pass\n",
    "    \n",
    "    return True\n"
   ]
  },
  {
   "cell_type": "code",
   "execution_count": 13,
   "metadata": {},
   "outputs": [
    {
     "ename": "AttributeError",
     "evalue": "'BinaryTree' object has no attribute 'insertLeft'",
     "output_type": "error",
     "traceback": [
      "\u001b[0;31m---------------------------------------------------------------------------\u001b[0m",
      "\u001b[0;31mAttributeError\u001b[0m                            Traceback (most recent call last)",
      "\u001b[0;32m<ipython-input-13-5a4c30c8aa93>\u001b[0m in \u001b[0;36m<module>\u001b[0;34m\u001b[0m\n\u001b[1;32m      1\u001b[0m \u001b[0mA\u001b[0m \u001b[0;34m=\u001b[0m \u001b[0mBinaryTree\u001b[0m\u001b[0;34m(\u001b[0m\u001b[0;36m17\u001b[0m\u001b[0;34m)\u001b[0m\u001b[0;34m\u001b[0m\u001b[0;34m\u001b[0m\u001b[0m\n\u001b[1;32m      2\u001b[0m \u001b[0;34m\u001b[0m\u001b[0m\n\u001b[0;32m----> 3\u001b[0;31m \u001b[0mA\u001b[0m\u001b[0;34m.\u001b[0m\u001b[0minsertLeft\u001b[0m\u001b[0;34m(\u001b[0m\u001b[0;36m5\u001b[0m\u001b[0;34m)\u001b[0m\u001b[0;34m\u001b[0m\u001b[0;34m\u001b[0m\u001b[0m\n\u001b[0m\u001b[1;32m      4\u001b[0m \u001b[0mB\u001b[0m \u001b[0;34m=\u001b[0m \u001b[0mA\u001b[0m\u001b[0;34m.\u001b[0m\u001b[0mleftChild\u001b[0m\u001b[0;34m\u001b[0m\u001b[0;34m\u001b[0m\u001b[0m\n\u001b[1;32m      5\u001b[0m \u001b[0;34m\u001b[0m\u001b[0m\n",
      "\u001b[0;31mAttributeError\u001b[0m: 'BinaryTree' object has no attribute 'insertLeft'"
     ]
    }
   ],
   "source": [
    "A = BinaryTree(17)\n",
    "\n",
    "A.insertLeft(5)\n",
    "B = A.leftChild\n",
    "\n",
    "A.insertRight(35)\n",
    "C = A.rightChild\n",
    "\n",
    "B.insertLeft(2)\n",
    "D = B.leftChild\n",
    "\n",
    "B.insertRight(11)\n",
    "E = B.rightChild\n",
    "\n",
    "C.insertLeft(29)\n",
    "F = C.leftChild\n",
    "\n",
    "C.insertRight(38)\n",
    "G = C.rightChild\n",
    "\n",
    "E.insertLeft(9)\n",
    "H = E.leftChild\n",
    "\n",
    "E.insertRight(16)\n",
    "I = E.rightChild\n",
    "\n",
    "H.insertLeft(7)\n",
    "J = H.leftChild\n",
    "\n",
    "J.insertRight(8)\n",
    "K = J.rightChild"
   ]
  },
  {
   "cell_type": "markdown",
   "metadata": {},
   "source": [
    "# Try 2"
   ]
  },
  {
   "cell_type": "code",
   "execution_count": 1,
   "metadata": {},
   "outputs": [],
   "source": [
    "class Node:\n",
    "    def __init__(self, k, val):\n",
    "        self.key = k\n",
    "        self.value = val\n",
    "        self.left = None\n",
    "        self.right = None"
   ]
  },
  {
   "cell_type": "code",
   "execution_count": 57,
   "metadata": {},
   "outputs": [],
   "source": [
    "tree_vals = []\n",
    "\n",
    "def inorder(tree):\n",
    "\n",
    "    if tree != None:\n",
    "        inorder(tree.left)\n",
    "        tree_vals.append(tree.key)\n",
    "        inorder(tree.right)\n",
    "    \n",
    "    return tree_vals\n",
    "\n",
    "\n",
    "def sort_check(tree_vals):\n",
    "    return tree_vals == sorted(tree_vals)\n",
    "\n",
    "\n",
    "def validity_check(tree):\n",
    "    tree_vals = inorder(tree)\n",
    "    print(tree_vals)\n",
    "    status = sort_check(tree_vals)\n",
    "    tree_vals = []\n",
    "    return status\n",
    "    \n",
    "    \n",
    "# inorder(tree)\n",
    "# check_tree(tree_list)"
   ]
  },
  {
   "cell_type": "code",
   "execution_count": 58,
   "metadata": {},
   "outputs": [],
   "source": [
    "root = Node(11, 'eleven')\n",
    "root.left = Node(7, 'seven')\n",
    "root.right = Node(18, 'eighteen')\n",
    "root.left.left = Node(8, 'eight')"
   ]
  },
  {
   "cell_type": "code",
   "execution_count": 59,
   "metadata": {},
   "outputs": [
    {
     "name": "stdout",
     "output_type": "stream",
     "text": [
      "[8, 7, 11, 18]\n"
     ]
    },
    {
     "data": {
      "text/plain": [
       "False"
      ]
     },
     "execution_count": 59,
     "metadata": {},
     "output_type": "execute_result"
    }
   ],
   "source": [
    "validity_check(root)"
   ]
  },
  {
   "cell_type": "markdown",
   "metadata": {},
   "source": [
    "# Try 3"
   ]
  },
  {
   "cell_type": "code",
   "execution_count": 34,
   "metadata": {},
   "outputs": [
    {
     "data": {
      "text/plain": [
       "True"
      ]
     },
     "execution_count": 34,
     "metadata": {},
     "output_type": "execute_result"
    }
   ],
   "source": [
    "class Node:\n",
    "    def __init__(self, key):\n",
    "        self.key = key\n",
    "        self.left = None\n",
    "        self.right = None\n",
    "\n",
    "\n",
    "def tree_max(node):\n",
    "    if not node:\n",
    "        return float('-inf')\n",
    "    max_left = tree_max(node.left)\n",
    "    max_right = tree_max(node.right)\n",
    "    \n",
    "    return max(node.key, max_left, max_right)\n",
    "\n",
    "\n",
    "def tree_min(node):\n",
    "    if not node:\n",
    "        return float('inf')\n",
    "    min_left = tree_min(node.left)\n",
    "    min_right = tree_min(node.right)\n",
    "    \n",
    "    return min(node.key, min_left, min_right)\n",
    "\n",
    "\n",
    "def verify(node):\n",
    "    if not node:\n",
    "        return True\n",
    "    if tree_max(node.left) <= node.key <= tree_min(node.right) and verify(node.left) and verify(node.right):\n",
    "        return True\n",
    "    else:\n",
    "        return False\n",
    "\n",
    "\n",
    "root = Node(10)\n",
    "root.left = Node(5)\n",
    "root.right = Node(20)\n",
    "\n",
    "verify(root)"
   ]
  },
  {
   "cell_type": "markdown",
   "metadata": {},
   "source": [
    "# Tree Level Order Print \n",
    "\n",
    "Given a binary tree of integers, print it in level order. The output will contain space between the numbers in the same level, and new line between different levels. For example, if the tree is: \n",
    "___\n",
    "![title](tree_print.png)\n",
    "___\n",
    "The output should be: \n",
    "\n",
    "    1 \n",
    "    2 3 \n",
    "    4 5 6"
   ]
  },
  {
   "cell_type": "markdown",
   "metadata": {},
   "source": [
    "## Solution\n",
    "\n",
    "Fill out your solution below:"
   ]
  },
  {
   "cell_type": "code",
   "execution_count": 55,
   "metadata": {},
   "outputs": [],
   "source": [
    "class Node:\n",
    "    def __init__(self, val=None):\n",
    "        self.left = None\n",
    "        self.right = None\n",
    "        self.val =  val "
   ]
  },
  {
   "cell_type": "code",
   "execution_count": 80,
   "metadata": {},
   "outputs": [],
   "source": [
    "# import collections\n",
    "\n",
    "\n",
    "# def levelOrderPrint(tree):\n",
    "#     if not tree:\n",
    "#         return\n",
    "#     nodes = collections.deque([tree])\n",
    "#     print(nodes)\n",
    "    \n",
    "#     currentCount, nextCount = 1, 0\n",
    "#     while len(nodes)!=0:\n",
    "#         currentNode=nodes.popleft()\n",
    "#         currentCount-=1\n",
    "#         print (currentNode.val, ' ', end = '')\n",
    "#         if currentNode.left:\n",
    "#             nodes.append(currentNode.left)\n",
    "#             nextCount+=1\n",
    "#         if currentNode.right:\n",
    "#             nodes.append(currentNode.right)\n",
    "#             nextCount+=1\n",
    "#         if currentCount==0:\n",
    "#             #finished printing current level\n",
    "#             print ()\n",
    "#             currentCount, nextCount = nextCount, currentCount\n",
    "\n",
    "\n",
    "import collections\n",
    "\n",
    "def levelOrderPrint(tree):\n",
    "    \n",
    "    if not tree:\n",
    "        return \n",
    "    \n",
    "    nodes = collections.deque([tree])\n",
    "    \n",
    "    currentCount, nextCount =1, 0\n",
    "    \n",
    "    while len(nodes) != 0:\n",
    "        \n",
    "        currentNode = nodes.popleft()"
   ]
  },
  {
   "cell_type": "code",
   "execution_count": 81,
   "metadata": {},
   "outputs": [
    {
     "name": "stdout",
     "output_type": "stream",
     "text": [
      "deque([<__main__.Node object at 0x7ff1544de1d0>])\n",
      "1  \n",
      "2  3  \n",
      "4  5  6  \n"
     ]
    }
   ],
   "source": [
    "root = Node(1)\n",
    "a = root.left = Node(2)\n",
    "b = root.right = Node(3)\n",
    "a.left = Node(4)\n",
    "b.left = Node(5)\n",
    "b.right = Node(6)\n",
    "\n",
    "levelOrderPrint(root)"
   ]
  }
 ],
 "metadata": {
  "kernelspec": {
   "display_name": "Python 3",
   "language": "python",
   "name": "python3"
  },
  "language_info": {
   "codemirror_mode": {
    "name": "ipython",
    "version": 3
   },
   "file_extension": ".py",
   "mimetype": "text/x-python",
   "name": "python",
   "nbconvert_exporter": "python",
   "pygments_lexer": "ipython3",
   "version": "3.6.5"
  }
 },
 "nbformat": 4,
 "nbformat_minor": 2
}
