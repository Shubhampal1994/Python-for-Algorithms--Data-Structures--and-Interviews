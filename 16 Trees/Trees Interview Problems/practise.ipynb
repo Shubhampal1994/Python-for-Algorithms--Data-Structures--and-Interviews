{
 "cells": [
  {
   "cell_type": "markdown",
   "metadata": {},
   "source": [
    "# Binary Search Tree Check \n",
    "\n",
    "## Problem Statement\n",
    "\n",
    "Given a binary tree, check whether it’s a binary search tree or not.\n",
    "\n",
    "** Again, no solution cell, just worry about your code making sense logically. Hint: Think about tree traversals. **\n",
    "\n",
    "## Solution\n",
    "\n",
    "Fill out your solution below:"
   ]
  },
  {
   "cell_type": "code",
   "execution_count": 1,
   "metadata": {},
   "outputs": [],
   "source": [
    "class TreeNode:\n",
    "    \n",
    "    def __init__(self,key,left=None,right=None,parent=None):\n",
    "        self.key = key\n",
    "        self.leftChild = left\n",
    "        self.rightChild = right\n",
    "        self.parent = parent\n",
    "\n",
    "    def hasLeftChild(self):\n",
    "        return self.leftChild\n",
    "\n",
    "    def hasRightChild(self):\n",
    "        return self.rightChild\n",
    "\n",
    "    def isLeftChild(self):\n",
    "        return self.parent and self.parent.leftChild == self\n",
    "\n",
    "    def isRightChild(self):\n",
    "        return self.parent and self.parent.rightChild == self\n",
    "\n",
    "    def isRoot(self):\n",
    "        return not self.parent\n",
    "\n",
    "    def isLeaf(self):\n",
    "        return not (self.rightChild or self.leftChild)\n",
    "\n",
    "    def hasAnyChildren(self):\n",
    "        return self.rightChild or self.leftChild\n",
    "\n",
    "    def hasBothChildren(self):\n",
    "        return self.rightChild and self.leftChild\n",
    "\n",
    "    def replaceNodeData(self,key,lc,rc):\n",
    "        self.key = key\n",
    "        self.leftChild = lc\n",
    "        self.rightChild = rc\n",
    "        if self.hasLeftChild():\n",
    "            self.leftChild.parent = self\n",
    "        if self.hasRightChild():\n",
    "            self.rightChild.parent = self\n",
    "    \n",
    "    def insertLeft(self, newNode):\n",
    "        \n",
    "        if self.leftChild == None:\n",
    "            self.leftChild = TreeNode(newNode)\n",
    "        else:\n",
    "            t = BinaryTree(newNode)\n",
    "            t.leftChild = self.leftChild\n",
    "            self.leftChild = t\n",
    "    \n",
    "    def insertRight(self, newNode):\n",
    "        \n",
    "        if self.rightChild == None:\n",
    "            self.rightChild = BinaryTree(newNode)\n",
    "        else:\n",
    "            t = BinaryTree(newNode)\n",
    "            t.rightChild = self.rightChild\n",
    "            self.rightChild = t\n",
    "    \n",
    "    def getRightChild(self):\n",
    "        return self.rightChild\n",
    "    \n",
    "    def getLeftChild(self):\n",
    "        return self.leftChild\n",
    "    \n",
    "    def setRootVal(self, obj):\n",
    "        self.key = obj\n",
    "    \n",
    "    def getRootVal(self):\n",
    "        return self.key\n",
    "\n",
    "\n",
    "\n",
    "class BinaryTree(object):\n",
    "    \n",
    "    def __init__(self, rootObj):\n",
    "        \n",
    "        self.key = rootObj\n",
    "        self.leftChild = None\n",
    "        self.rightChild = None\n",
    "    \n",
    "    def __iter__(self):\n",
    "        if self:\n",
    "            if self.hasLeftChild():\n",
    "                for elem in self.leftChild:\n",
    "                    yield elem\n",
    "            yield self.key\n",
    "            if self.hasRightChild():\n",
    "                for elem in self.rightChild:\n",
    "                    yield elem\n",
    "        \n",
    "    \n",
    "def inOrder(tree):\n",
    "    \n",
    "    if tree.leftChild:\n",
    "        inOrder(tree.leftChild)\n",
    "    print(tree.key)\n",
    "    if tree.rightChild:\n",
    "        inOrder(tree.rightChild)\n",
    "        \n",
    "\n",
    "\n",
    "def validBST(tree):\n",
    "    root = tree.key\n",
    "    if root.hasLeftChild():\n",
    "        if root.leftChild.key < root.key:\n",
    "            validBST(root.leftChild)\n",
    "        else:\n",
    "            return False\n",
    "    \n",
    "    elif root.hasRightChild():\n",
    "        if root.rightChild.key > root.key:\n",
    "            validBST(root.rightChild)\n",
    "        else:\n",
    "            return False\n",
    "    \n",
    "    else:\n",
    "        pass\n",
    "    \n",
    "    return True\n"
   ]
  },
  {
   "cell_type": "code",
   "execution_count": 13,
   "metadata": {},
   "outputs": [
    {
     "ename": "AttributeError",
     "evalue": "'BinaryTree' object has no attribute 'insertLeft'",
     "output_type": "error",
     "traceback": [
      "\u001b[0;31m---------------------------------------------------------------------------\u001b[0m",
      "\u001b[0;31mAttributeError\u001b[0m                            Traceback (most recent call last)",
      "\u001b[0;32m<ipython-input-13-5a4c30c8aa93>\u001b[0m in \u001b[0;36m<module>\u001b[0;34m\u001b[0m\n\u001b[1;32m      1\u001b[0m \u001b[0mA\u001b[0m \u001b[0;34m=\u001b[0m \u001b[0mBinaryTree\u001b[0m\u001b[0;34m(\u001b[0m\u001b[0;36m17\u001b[0m\u001b[0;34m)\u001b[0m\u001b[0;34m\u001b[0m\u001b[0;34m\u001b[0m\u001b[0m\n\u001b[1;32m      2\u001b[0m \u001b[0;34m\u001b[0m\u001b[0m\n\u001b[0;32m----> 3\u001b[0;31m \u001b[0mA\u001b[0m\u001b[0;34m.\u001b[0m\u001b[0minsertLeft\u001b[0m\u001b[0;34m(\u001b[0m\u001b[0;36m5\u001b[0m\u001b[0;34m)\u001b[0m\u001b[0;34m\u001b[0m\u001b[0;34m\u001b[0m\u001b[0m\n\u001b[0m\u001b[1;32m      4\u001b[0m \u001b[0mB\u001b[0m \u001b[0;34m=\u001b[0m \u001b[0mA\u001b[0m\u001b[0;34m.\u001b[0m\u001b[0mleftChild\u001b[0m\u001b[0;34m\u001b[0m\u001b[0;34m\u001b[0m\u001b[0m\n\u001b[1;32m      5\u001b[0m \u001b[0;34m\u001b[0m\u001b[0m\n",
      "\u001b[0;31mAttributeError\u001b[0m: 'BinaryTree' object has no attribute 'insertLeft'"
     ]
    }
   ],
   "source": [
    "A = BinaryTree(17)\n",
    "\n",
    "A.insertLeft(5)\n",
    "B = A.leftChild\n",
    "\n",
    "A.insertRight(35)\n",
    "C = A.rightChild\n",
    "\n",
    "B.insertLeft(2)\n",
    "D = B.leftChild\n",
    "\n",
    "B.insertRight(11)\n",
    "E = B.rightChild\n",
    "\n",
    "C.insertLeft(29)\n",
    "F = C.leftChild\n",
    "\n",
    "C.insertRight(38)\n",
    "G = C.rightChild\n",
    "\n",
    "E.insertLeft(9)\n",
    "H = E.leftChild\n",
    "\n",
    "E.insertRight(16)\n",
    "I = E.rightChild\n",
    "\n",
    "H.insertLeft(7)\n",
    "J = H.leftChild\n",
    "\n",
    "J.insertRight(8)\n",
    "K = J.rightChild"
   ]
  },
  {
   "cell_type": "markdown",
   "metadata": {},
   "source": [
    "# Try 2"
   ]
  },
  {
   "cell_type": "code",
   "execution_count": 56,
   "metadata": {},
   "outputs": [],
   "source": [
    "class Node:\n",
    "    def __init__(self, k, val):\n",
    "        self.key = k\n",
    "        self.value = val\n",
    "        self.left = None\n",
    "        self.right = None"
   ]
  },
  {
   "cell_type": "code",
   "execution_count": 57,
   "metadata": {},
   "outputs": [],
   "source": [
    "tree_vals = []\n",
    "\n",
    "def inorder(tree):\n",
    "\n",
    "    if tree != None:\n",
    "        inorder(tree.left)\n",
    "        tree_vals.append(tree.key)\n",
    "        inorder(tree.right)\n",
    "    \n",
    "    return tree_vals\n",
    "\n",
    "\n",
    "def sort_check(tree_vals):\n",
    "    return tree_vals == sorted(tree_vals)\n",
    "\n",
    "\n",
    "def validity_check(tree):\n",
    "    tree_vals = inorder(tree)\n",
    "    print(tree_vals)\n",
    "    status = sort_check(tree_vals)\n",
    "    tree_vals = []\n",
    "    return status\n",
    "    \n",
    "    \n",
    "# inorder(tree)\n",
    "# check_tree(tree_list)"
   ]
  },
  {
   "cell_type": "code",
   "execution_count": 58,
   "metadata": {},
   "outputs": [],
   "source": [
    "root = Node(11, 'eleven')\n",
    "root.left = Node(7, 'seven')\n",
    "root.right = Node(18, 'eighteen')\n",
    "root.left.left = Node(8, 'eight')"
   ]
  },
  {
   "cell_type": "code",
   "execution_count": 59,
   "metadata": {},
   "outputs": [
    {
     "name": "stdout",
     "output_type": "stream",
     "text": [
      "[8, 7, 11, 18]\n"
     ]
    },
    {
     "data": {
      "text/plain": [
       "False"
      ]
     },
     "execution_count": 59,
     "metadata": {},
     "output_type": "execute_result"
    }
   ],
   "source": [
    "validity_check(root)"
   ]
  },
  {
   "cell_type": "markdown",
   "metadata": {},
   "source": [
    "# Try 3"
   ]
  },
  {
   "cell_type": "code",
   "execution_count": null,
   "metadata": {},
   "outputs": [],
   "source": []
  },
  {
   "cell_type": "code",
   "execution_count": null,
   "metadata": {},
   "outputs": [],
   "source": []
  }
 ],
 "metadata": {
  "kernelspec": {
   "display_name": "Python 3",
   "language": "python",
   "name": "python3"
  },
  "language_info": {
   "codemirror_mode": {
    "name": "ipython",
    "version": 3
   },
   "file_extension": ".py",
   "mimetype": "text/x-python",
   "name": "python",
   "nbconvert_exporter": "python",
   "pygments_lexer": "ipython3",
   "version": "3.7.3"
  }
 },
 "nbformat": 4,
 "nbformat_minor": 2
}
