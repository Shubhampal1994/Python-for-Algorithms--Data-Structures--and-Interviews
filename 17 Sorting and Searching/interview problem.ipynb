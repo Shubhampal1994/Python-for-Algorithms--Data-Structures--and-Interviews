{
 "cells": [
  {
   "cell_type": "markdown",
   "metadata": {},
   "source": [
    "# Binary Search"
   ]
  },
  {
   "cell_type": "code",
   "execution_count": 1,
   "metadata": {},
   "outputs": [],
   "source": [
    "def binary_search(arr, ele):\n",
    "    \n",
    "    arr = sorted(arr)\n",
    "    first = 0\n",
    "    last = len(arr) - 1\n",
    "    found = False\n",
    "    \n",
    "    while not found and first <= last:\n",
    "        mid = (first + last) // 2\n",
    "        \n",
    "        if arr[mid] == ele:\n",
    "            found = True\n",
    "            \n",
    "        else:\n",
    "\n",
    "            if arr[mid] > ele:\n",
    "                last = mid -1\n",
    "            \n",
    "            else:\n",
    "                first = mid + 1\n",
    "        \n",
    "    return found"
   ]
  },
  {
   "cell_type": "code",
   "execution_count": 18,
   "metadata": {},
   "outputs": [
    {
     "data": {
      "text/plain": [
       "False"
      ]
     },
     "execution_count": 18,
     "metadata": {},
     "output_type": "execute_result"
    }
   ],
   "source": [
    "arr = [11,23,43,21,65]\n",
    "binary_search(arr, 20)"
   ]
  },
  {
   "cell_type": "code",
   "execution_count": 48,
   "metadata": {},
   "outputs": [],
   "source": [
    "def rec_search(arr, ele):\n",
    "    \n",
    "    arr = sorted(arr)\n",
    "    \n",
    "    if len(arr) == 0:\n",
    "        return False\n",
    "    \n",
    "    else:\n",
    "        mid = len(arr) // 2\n",
    "\n",
    "        if arr[mid] == ele:\n",
    "            return True\n",
    "\n",
    "        else:\n",
    "\n",
    "            if arr[mid] > ele:\n",
    "                return rec_search(arr[:mid], ele)\n",
    "\n",
    "            else:\n",
    "                return rec_search(arr[mid+1:], ele)"
   ]
  },
  {
   "cell_type": "code",
   "execution_count": 49,
   "metadata": {},
   "outputs": [
    {
     "data": {
      "text/plain": [
       "True"
      ]
     },
     "execution_count": 49,
     "metadata": {},
     "output_type": "execute_result"
    }
   ],
   "source": [
    "arr = [11,21,23,43,65]\n",
    "rec_search(arr, 21)"
   ]
  },
  {
   "cell_type": "markdown",
   "metadata": {},
   "source": [
    "# Bubble Sort"
   ]
  },
  {
   "cell_type": "code",
   "execution_count": 50,
   "metadata": {},
   "outputs": [],
   "source": [
    "def bubble_sort(arr):\n",
    "    \n",
    "    for i in range(len(arr)-1, 0, -1):\n",
    "        \n",
    "        for j in range(i):\n",
    "            \n",
    "            if arr[j] > arr[j+1]:\n",
    "                arr[j], arr[j+1] = arr[j+1], arr[j]\n",
    "    \n",
    "    print(arr)"
   ]
  },
  {
   "cell_type": "code",
   "execution_count": 52,
   "metadata": {},
   "outputs": [
    {
     "name": "stdout",
     "output_type": "stream",
     "text": [
      "[1, 2, 3, 4, 5, 6, 7, 8, 13, 20]\n"
     ]
    }
   ],
   "source": [
    "arr = [3,2,13,4,6,5,7,8,1,20]\n",
    "bubble_sort(arr)"
   ]
  },
  {
   "cell_type": "markdown",
   "metadata": {},
   "source": [
    "# Selection Sort"
   ]
  },
  {
   "cell_type": "code",
   "execution_count": 57,
   "metadata": {},
   "outputs": [],
   "source": [
    "def selection_sort(arr):\n",
    "    \n",
    "    for i in range(len(arr)-1, 0, -1):\n",
    "        highest_value_index = 0\n",
    "        \n",
    "        for j in range(i+1):\n",
    "            if arr[j] > arr[highest_value_index]:\n",
    "                highest_value_index = j\n",
    "        \n",
    "        arr[i], arr[highest_value_index] = arr[highest_value_index], arr[i]\n",
    "    print(arr)"
   ]
  },
  {
   "cell_type": "code",
   "execution_count": 58,
   "metadata": {},
   "outputs": [
    {
     "name": "stdout",
     "output_type": "stream",
     "text": [
      "[1, 2, 3, 4, 5, 6, 7, 8, 13, 20]\n"
     ]
    }
   ],
   "source": [
    "arr = [3,2,13,4,6,5,7,8,1,20]\n",
    "selection_sort(arr)"
   ]
  },
  {
   "cell_type": "code",
   "execution_count": null,
   "metadata": {},
   "outputs": [],
   "source": []
  }
 ],
 "metadata": {
  "kernelspec": {
   "display_name": "Python 3",
   "language": "python",
   "name": "python3"
  },
  "language_info": {
   "codemirror_mode": {
    "name": "ipython",
    "version": 3
   },
   "file_extension": ".py",
   "mimetype": "text/x-python",
   "name": "python",
   "nbconvert_exporter": "python",
   "pygments_lexer": "ipython3",
   "version": "3.6.5"
  }
 },
 "nbformat": 4,
 "nbformat_minor": 2
}
