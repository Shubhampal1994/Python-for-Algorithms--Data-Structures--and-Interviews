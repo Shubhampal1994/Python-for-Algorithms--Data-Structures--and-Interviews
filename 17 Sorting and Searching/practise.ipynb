{
 "cells": [
  {
   "cell_type": "markdown",
   "metadata": {},
   "source": [
    "# Sequential Search"
   ]
  },
  {
   "cell_type": "code",
   "execution_count": null,
   "metadata": {},
   "outputs": [],
   "source": [
    "def seq_search(arr, ele):\n",
    "    \n",
    "    found = False\n",
    "    pos = 0\n",
    "    \n",
    "    while pos < len(arr) and not found:\n",
    "        if arr[pos] == ele:\n",
    "            found = True\n",
    "        else:\n",
    "            pos += 1\n",
    "    \n",
    "    return found"
   ]
  },
  {
   "cell_type": "code",
   "execution_count": null,
   "metadata": {},
   "outputs": [],
   "source": [
    "arr = [1,2,3,4,5]\n",
    "seq_search(arr, 5)"
   ]
  },
  {
   "cell_type": "code",
   "execution_count": null,
   "metadata": {},
   "outputs": [],
   "source": [
    "def ordered_seq_search(arr, ele):\n",
    "    \"\"\"\n",
    "    Input array must be ordered/sorted\n",
    "    \"\"\"\n",
    "    found = False\n",
    "    pos = 0\n",
    "    stopped = False\n",
    "    \n",
    "    while pos < len(arr) and not found and not stopped:\n",
    "        if arr[pos] == ele:\n",
    "            found = True\n",
    "        else:\n",
    "            if arr[pos] > ele:\n",
    "                stopped = True\n",
    "            else:\n",
    "                pos += 1\n",
    "    \n",
    "    return found"
   ]
  },
  {
   "cell_type": "code",
   "execution_count": null,
   "metadata": {},
   "outputs": [],
   "source": [
    "arr = [1,2,3,4,5,6,7,8,9,10]\n",
    "ordered_seq_search(arr, 12)"
   ]
  },
  {
   "cell_type": "markdown",
   "metadata": {},
   "source": [
    "# Implementation of Binary Search"
   ]
  },
  {
   "cell_type": "code",
   "execution_count": 21,
   "metadata": {},
   "outputs": [],
   "source": [
    "def binary_search(arr, ele):\n",
    "    \n",
    "    arr = sorted(arr)\n",
    "    found = False\n",
    "    \n",
    "    while len(arr) > 0 and not found:\n",
    "        print(arr)\n",
    "        \n",
    "        len_arr = len(arr)\n",
    "        \n",
    "        if len_arr == 1:\n",
    "            if arr[0] == ele:\n",
    "                found = True\n",
    "            else:\n",
    "                break\n",
    "\n",
    "        if arr[len_arr // 2] == ele:\n",
    "            found = True\n",
    "        \n",
    "        elif arr[len_arr // 2] > ele:\n",
    "            arr = arr[:len_arr//2]\n",
    "        \n",
    "        else:\n",
    "            arr = arr[len_arr//2:]\n",
    "    \n",
    "    return found"
   ]
  },
  {
   "cell_type": "code",
   "execution_count": 22,
   "metadata": {},
   "outputs": [
    {
     "name": "stdout",
     "output_type": "stream",
     "text": [
      "[1, 2, 3, 4, 5, 6, 7]\n",
      "[1, 2, 3]\n",
      "[1]\n"
     ]
    },
    {
     "data": {
      "text/plain": [
       "False"
      ]
     },
     "execution_count": 22,
     "metadata": {},
     "output_type": "execute_result"
    }
   ],
   "source": [
    "arr = [1,2,3,4,5,6,7]\n",
    "binary_search(arr, 0)"
   ]
  },
  {
   "cell_type": "code",
   "execution_count": 30,
   "metadata": {},
   "outputs": [],
   "source": [
    "def binary_search1(arr, ele):\n",
    "    \n",
    "    arr = sorted(arr)\n",
    "    \n",
    "    found = False\n",
    "    \n",
    "    first = 0\n",
    "    last = len(arr) - 1\n",
    "    \n",
    "    while first <= last and not found:\n",
    "        \n",
    "        mid = (first + last) // 2\n",
    "        \n",
    "        if arr[mid] == ele:\n",
    "            found = True\n",
    "        else:\n",
    "            if arr[mid] < ele:\n",
    "                first = mid + 1\n",
    "            else:\n",
    "                last = mid - 1\n",
    "    \n",
    "    return found"
   ]
  },
  {
   "cell_type": "code",
   "execution_count": 35,
   "metadata": {},
   "outputs": [
    {
     "data": {
      "text/plain": [
       "False"
      ]
     },
     "execution_count": 35,
     "metadata": {},
     "output_type": "execute_result"
    }
   ],
   "source": [
    "binary_search1(arr, 11)"
   ]
  },
  {
   "cell_type": "code",
   "execution_count": 49,
   "metadata": {},
   "outputs": [],
   "source": [
    "def rec_bin_search(arr, ele):\n",
    "    \n",
    "    arr = sorted(arr)\n",
    "    \n",
    "    if len(arr) == 0:\n",
    "        return False\n",
    "    \n",
    "    else:\n",
    "        mid = len(arr) // 2\n",
    "\n",
    "        if arr[mid] == ele:\n",
    "            return True\n",
    "\n",
    "        else:\n",
    "            if arr[mid] > ele:\n",
    "                return rec_bin_search(arr[:mid], ele)\n",
    "            else:\n",
    "                return rec_bin_search(arr[mid+1:], ele)"
   ]
  },
  {
   "cell_type": "code",
   "execution_count": 50,
   "metadata": {},
   "outputs": [
    {
     "data": {
      "text/plain": [
       "True"
      ]
     },
     "execution_count": 50,
     "metadata": {},
     "output_type": "execute_result"
    }
   ],
   "source": [
    "rec_bin_search(arr, 1)"
   ]
  },
  {
   "cell_type": "markdown",
   "metadata": {},
   "source": [
    "# Implementation of a Hash Table"
   ]
  },
  {
   "cell_type": "code",
   "execution_count": 1,
   "metadata": {},
   "outputs": [],
   "source": [
    "class HashTable(object):\n",
    "    \n",
    "    def __init__(self, size):\n",
    "        \n",
    "        self.size = size\n",
    "        self.slots = [None] * self.size\n",
    "        self.data = [None] * self.size\n",
    "        \n",
    "    def put(self, key, data):\n",
    "        \n",
    "        hashvalue = self.hashfunction(key, len(self.slots))\n",
    "        \n",
    "        if self.slots[hashvalue] == None:\n",
    "            self.slots[hashvalue] = key\n",
    "            self.data[hashvalue] = data\n",
    "        \n",
    "        else:\n",
    "            \n",
    "            if self.slots[hashvalue] == key:\n",
    "                self.data[hashvalue] = data\n",
    "            \n",
    "            else:\n",
    "                \n",
    "                nextslot = self.rehash(hashvalue, len(self.slots))\n",
    "                \n",
    "                while self.slots[nextslots] != None and self.slots[nextslot] != key:\n",
    "                    nextslot = self.rehash(nextslot, len(self.slots))\n",
    "                    \n",
    "                if self.slots[nextslot] == None:\n",
    "                    self.slots[nextslot] = key\n",
    "                    self.data[nextslot] = data\n",
    "                \n",
    "                else:\n",
    "                    self.data[nextslot] = data\n",
    "    \n",
    "    def hashfunction(self, key, size):\n",
    "        # The actual hash function - Remainder Method\n",
    "        return key % size\n",
    "    \n",
    "    def rehash(self, oldhash, size):\n",
    "        \n",
    "        return (oldhash + 1) % size\n",
    "    \n",
    "    def get(self, key):\n",
    "        \n",
    "        startslot = self.hashfunction(key, len(self.slots))\n",
    "        data = None\n",
    "        stop = False\n",
    "        found = False\n",
    "        position = startslot\n",
    "        \n",
    "        while self.slots[position] != None and not found and not stop:\n",
    "            if self.slots[position] == key:\n",
    "                found = True\n",
    "                data = self.data[position]\n",
    "            \n",
    "            else:\n",
    "                position = self.rehash(position, len(self.slots))\n",
    "                if position == startslot:\n",
    "                    stop = True\n",
    "        \n",
    "        return data\n",
    "    \n",
    "    def __getitem__(self, key):\n",
    "        return self.get(key)\n",
    "    \n",
    "    def __setitem__(self, key, data):\n",
    "        return self.put(key, data)"
   ]
  },
  {
   "cell_type": "code",
   "execution_count": 2,
   "metadata": {},
   "outputs": [],
   "source": [
    "h = HashTable(5)"
   ]
  },
  {
   "cell_type": "code",
   "execution_count": 3,
   "metadata": {},
   "outputs": [],
   "source": [
    "h[1] = 'one'\n",
    "h[2] = 'two'\n",
    "h[3] = 'three'"
   ]
  },
  {
   "cell_type": "code",
   "execution_count": 4,
   "metadata": {},
   "outputs": [
    {
     "data": {
      "text/plain": [
       "'one'"
      ]
     },
     "execution_count": 4,
     "metadata": {},
     "output_type": "execute_result"
    }
   ],
   "source": [
    "h[1]"
   ]
  },
  {
   "cell_type": "code",
   "execution_count": 5,
   "metadata": {},
   "outputs": [
    {
     "data": {
      "text/plain": [
       "'two'"
      ]
     },
     "execution_count": 5,
     "metadata": {},
     "output_type": "execute_result"
    }
   ],
   "source": [
    "h[2]"
   ]
  },
  {
   "cell_type": "markdown",
   "metadata": {},
   "source": [
    "# Implementation of a Bubble Sort"
   ]
  },
  {
   "cell_type": "code",
   "execution_count": 1,
   "metadata": {},
   "outputs": [],
   "source": [
    " def bubble_sort(arr):\n",
    "        \n",
    "        for i in range(len(arr)-1, 0, -1):\n",
    "            for k in range(i):\n",
    "                \n",
    "                if arr[k] > arr[k+1]:\n",
    "                    temp = arr[k]\n",
    "                    arr[k] = arr[k+1]\n",
    "                    arr[k+1] = temp\n",
    "        return arr"
   ]
  },
  {
   "cell_type": "code",
   "execution_count": 28,
   "metadata": {},
   "outputs": [
    {
     "data": {
      "text/plain": [
       "[1, 1, 3, 7, 8, 33]"
      ]
     },
     "execution_count": 28,
     "metadata": {},
     "output_type": "execute_result"
    }
   ],
   "source": [
    "arr = [7, 8, 3, 1, 1, 33]\n",
    "bubble_sort(arr)"
   ]
  },
  {
   "cell_type": "markdown",
   "metadata": {},
   "source": [
    "# Implementation of Selection Sort"
   ]
  },
  {
   "cell_type": "code",
   "execution_count": 3,
   "metadata": {},
   "outputs": [],
   "source": [
    "def sel_sort(arr):\n",
    "    \n",
    "    \n",
    "    for i in range(len(arr)):\n",
    "        current_min = arr[i]\n",
    "        for j in range(i, len(arr)):\n",
    "            if current_min >= arr[j]:\n",
    "                current_min = arr[j]\n",
    "                current_min_index = j\n",
    "        temp = arr[i]\n",
    "        arr[i] = arr[current_min_index]\n",
    "        arr[current_min_index] = temp\n",
    "    \n",
    "    return arr"
   ]
  },
  {
   "cell_type": "code",
   "execution_count": 4,
   "metadata": {},
   "outputs": [
    {
     "data": {
      "text/plain": [
       "[1, 11, 12, 51, 56]"
      ]
     },
     "execution_count": 4,
     "metadata": {},
     "output_type": "execute_result"
    }
   ],
   "source": [
    "arr = [1,12,11,56,51]\n",
    "sel_sort(arr)"
   ]
  },
  {
   "cell_type": "markdown",
   "metadata": {},
   "source": [
    "# Implementation of Insertion Sort"
   ]
  },
  {
   "cell_type": "code",
   "execution_count": 10,
   "metadata": {},
   "outputs": [],
   "source": [
    "# def insertion_sort(arr):\n",
    "    \n",
    "#     sorted_list = list(arr[0])\n",
    "    \n",
    "#     for i in range(1: len(arr)-1):\n",
    "        \n",
    "#         len_sl = len(sorted_list)\n",
    "#         for j in range(len_sl-1, -1, -1):\n",
    "            \n",
    "#             if sorted_list[j] > arr[i]:\n",
    "#                 if j == len_sl-1:\n",
    "#                     sorted_list.append(sorted_list[j])\n",
    "#                     sorted_list[j] = arr[i]\n",
    "#                 else:\n",
    "#                     temp = sorted_list[j]\n",
    "#                     sorted_list[j+1] = sorted_list[j]\n",
    "#                     sorted_list\n",
    "\n",
    "\n",
    "def insertion_sort(arr):\n",
    "    \n",
    "    for i in range(1, len(arr)):\n",
    "        \n",
    "        current_value = arr[i]\n",
    "        position = i\n",
    "\n",
    "        print('current_value: ', current_value)\n",
    "        print('position: ', position)\n",
    "        \n",
    "        while position > 0 and arr[position-1] > current_value:\n",
    "            \n",
    "            arr[position] = arr[position - 1]\n",
    "            position = position - 1\n",
    "            \n",
    "            print('arr[position]: ', arr[position])\n",
    "            print('position: ', position)\n",
    "            \n",
    "        arr[position] = current_value"
   ]
  },
  {
   "cell_type": "code",
   "execution_count": 11,
   "metadata": {
    "scrolled": false
   },
   "outputs": [
    {
     "name": "stdout",
     "output_type": "stream",
     "text": [
      "current_value:  11\n",
      "position:  1\n",
      "arr[position]:  14\n",
      "position:  0\n",
      "current_value:  25\n",
      "position:  2\n",
      "current_value:  16\n",
      "position:  3\n",
      "arr[position]:  25\n",
      "position:  2\n",
      "current_value:  12\n",
      "position:  4\n",
      "arr[position]:  25\n",
      "position:  3\n",
      "arr[position]:  16\n",
      "position:  2\n",
      "arr[position]:  14\n",
      "position:  1\n"
     ]
    },
    {
     "data": {
      "text/plain": [
       "[11, 12, 14, 16, 25]"
      ]
     },
     "execution_count": 11,
     "metadata": {},
     "output_type": "execute_result"
    }
   ],
   "source": [
    "arr = [14, 11, 25, 16, 12]\n",
    "\n",
    "insertion_sort(arr)\n",
    "arr"
   ]
  },
  {
   "cell_type": "markdown",
   "metadata": {},
   "source": [
    "# Implementation of Shell Sort"
   ]
  },
  {
   "cell_type": "code",
   "execution_count": 1,
   "metadata": {},
   "outputs": [],
   "source": [
    "def shell_sort(arr):\n",
    "    \n",
    "#     print('1: ', arr)\n",
    "    \n",
    "    sublistcount = len(arr) // 2\n",
    "    \n",
    "    while sublistcount > 0:\n",
    "#         print('sublistcount: ', sublistcount)\n",
    "        for start in range(sublistcount):\n",
    "            \n",
    "            gap_insertion_sort(arr, start, sublistcount)\n",
    "        \n",
    "        sublistcount //= 2 "
   ]
  },
  {
   "cell_type": "code",
   "execution_count": 2,
   "metadata": {},
   "outputs": [],
   "source": [
    "def gap_insertion_sort(arr, start, gap):\n",
    "#     print('arr: ', arr)\n",
    "#     print('start: ', start)\n",
    "#     print('gap: ', gap)\n",
    "    \n",
    "    for i in range(start + gap, len(arr), gap):\n",
    "        \n",
    "        currentvalue = arr[i]\n",
    "        position = i\n",
    "        \n",
    "#         print('currentvalue: ', currentvalue)\n",
    "#         print('position: ', position)\n",
    "        \n",
    "        while position >= gap and arr[position - gap] > currentvalue:\n",
    "            \n",
    "            arr[position] = arr[position - gap]\n",
    "            position -= gap\n",
    "            \n",
    "#             print('2: ', arr)\n",
    "            \n",
    "            \n",
    "#             print('arr[position]: ', arr[position])\n",
    "#             print('position: ', position)\n",
    "            \n",
    "        arr[position] = currentvalue\n",
    "        \n",
    "#         print('3: ', arr)\n"
   ]
  },
  {
   "cell_type": "code",
   "execution_count": null,
   "metadata": {},
   "outputs": [],
   "source": [
    "def shell_sort(arr):\n",
    "    sublistcount = len(arr)/2\n",
    "    \n",
    "    # While we still have sub lists\n",
    "    while sublistcount > 0:\n",
    "        for start in range(sublistcount):\n",
    "            # Use a gap insertion\n",
    "            gap = sublistcount\n",
    "            \n",
    "            for i in range(start+gap,len(arr),gap):\n",
    "\n",
    "                currentvalue = arr[i]\n",
    "                position = i\n",
    "\n",
    "                # Using the Gap\n",
    "                while position>=gap and arr[position-gap]>currentvalue:\n",
    "                    arr[position]=arr[position-gap]\n",
    "                    position = position-gap\n",
    "\n",
    "                # Set current value\n",
    "                arr[position]=currentvalue\n",
    "\n",
    "      \n",
    "\n",
    "        sublistcount = sublistcount / 2\n",
    "\n",
    "def gap_insertion_sort(arr,start,gap):\n",
    "    for i in range(start+gap,len(arr),gap):\n",
    "\n",
    "        currentvalue = arr[i]\n",
    "        position = i\n",
    "\n",
    "        # Using the Gap\n",
    "        while position>=gap and arr[position-gap]>currentvalue:\n",
    "            arr[position]=arr[position-gap]\n",
    "            position = position-gap\n",
    "        \n",
    "        # Set current value\n",
    "        arr[position]=currentvalue"
   ]
  },
  {
   "cell_type": "code",
   "execution_count": 39,
   "metadata": {
    "scrolled": false
   },
   "outputs": [
    {
     "data": {
      "text/plain": [
       "[11, 12, 14, 16, 25]"
      ]
     },
     "execution_count": 39,
     "metadata": {},
     "output_type": "execute_result"
    }
   ],
   "source": [
    "arr = [14, 11, 25, 16, 12]\n",
    "\n",
    "shell_sort(arr)\n",
    "arr"
   ]
  },
  {
   "cell_type": "markdown",
   "metadata": {},
   "source": [
    "# Implementation of Merge Sort"
   ]
  },
  {
   "cell_type": "code",
   "execution_count": 16,
   "metadata": {},
   "outputs": [],
   "source": [
    "def merge_sort(arr):\n",
    "    \n",
    "    if len(arr) > 1:\n",
    "        \n",
    "        mid = len(arr) // 2\n",
    "        lefthalf = arr[:mid]\n",
    "        righthalf = arr[mid:]\n",
    "        \n",
    "        merge_sort(lefthalf)\n",
    "        merge_sort(righthalf)\n",
    "        \n",
    "        i = 0\n",
    "        j = 0\n",
    "        k = 0\n",
    "        \n",
    "        while i < len(lefthalf) and j < len(righthalf):\n",
    "            \n",
    "            if lefthalf[i] <righthalf[j]:\n",
    "                print('lefthalf')\n",
    "                arr[k] = lefthalf[i]\n",
    "                \n",
    "                i += 1\n",
    "            else:\n",
    "                print('righthalf')\n",
    "                arr[k] = righthalf[j]\n",
    "                j += 1\n",
    "        \n",
    "            k += 1\n",
    "            print('1: ',arr)\n",
    "            \n",
    "        while i < len(lefthalf):\n",
    "            arr[k] = lefthalf[i]\n",
    "            i += 1\n",
    "            k += 1\n",
    "            print('2: ', arr)\n",
    "        \n",
    "        while j < len(righthalf):\n",
    "            \n",
    "            arr[k] = righthalf[j]\n",
    "            j += 1\n",
    "            k += 1\n",
    "            print('3: ', arr)"
   ]
  },
  {
   "cell_type": "code",
   "execution_count": 17,
   "metadata": {},
   "outputs": [
    {
     "name": "stdout",
     "output_type": "stream",
     "text": [
      "righthalf\n",
      "1:  [2, 2]\n",
      "2:  [2, 11]\n",
      "righthalf\n",
      "1:  [4, 4]\n",
      "2:  [4, 5]\n",
      "lefthalf\n",
      "1:  [2, 2, 5, 4]\n",
      "righthalf\n",
      "1:  [2, 4, 5, 4]\n",
      "righthalf\n",
      "1:  [2, 4, 5, 4]\n",
      "2:  [2, 4, 5, 11]\n",
      "lefthalf\n",
      "1:  [7, 56]\n",
      "3:  [7, 56]\n",
      "lefthalf\n",
      "1:  [12, 23]\n",
      "3:  [12, 23]\n",
      "lefthalf\n",
      "1:  [2, 12, 23]\n",
      "3:  [2, 12, 23]\n",
      "3:  [2, 12, 23]\n",
      "righthalf\n",
      "1:  [2, 56, 2, 12, 23]\n",
      "lefthalf\n",
      "1:  [2, 7, 2, 12, 23]\n",
      "righthalf\n",
      "1:  [2, 7, 12, 12, 23]\n",
      "righthalf\n",
      "1:  [2, 7, 12, 23, 23]\n",
      "2:  [2, 7, 12, 23, 56]\n",
      "righthalf\n",
      "1:  [2, 2, 5, 4, 7, 56, 2, 12, 23]\n",
      "lefthalf\n",
      "1:  [2, 2, 5, 4, 7, 56, 2, 12, 23]\n",
      "lefthalf\n",
      "1:  [2, 2, 4, 4, 7, 56, 2, 12, 23]\n",
      "lefthalf\n",
      "1:  [2, 2, 4, 5, 7, 56, 2, 12, 23]\n",
      "righthalf\n",
      "1:  [2, 2, 4, 5, 7, 56, 2, 12, 23]\n",
      "lefthalf\n",
      "1:  [2, 2, 4, 5, 7, 11, 2, 12, 23]\n",
      "3:  [2, 2, 4, 5, 7, 11, 12, 12, 23]\n",
      "3:  [2, 2, 4, 5, 7, 11, 12, 23, 23]\n",
      "3:  [2, 2, 4, 5, 7, 11, 12, 23, 56]\n"
     ]
    },
    {
     "data": {
      "text/plain": [
       "[2, 2, 4, 5, 7, 11, 12, 23, 56]"
      ]
     },
     "execution_count": 17,
     "metadata": {},
     "output_type": "execute_result"
    }
   ],
   "source": [
    "arr = [11,2,5,4,7,56,2,12,23]\n",
    "merge_sort(arr)\n",
    "arr"
   ]
  },
  {
   "cell_type": "markdown",
   "metadata": {},
   "source": [
    "# Implementation of Quick Sort"
   ]
  },
  {
   "cell_type": "code",
   "execution_count": 5,
   "metadata": {},
   "outputs": [],
   "source": [
    "def quick_sort(arr):\n",
    "    \n",
    "    quick_sort_help(arr,0,len(arr)-1)\n",
    "\n",
    "def quick_sort_help(arr,first,last):\n",
    "    \n",
    "    if first<last:\n",
    "        \n",
    "\n",
    "        splitpoint = partition(arr,first,last)\n",
    "\n",
    "        quick_sort_help(arr,first,splitpoint-1)\n",
    "        quick_sort_help(arr,splitpoint+1,last)\n",
    "\n",
    "\n",
    "def partition(arr,first,last):\n",
    "    \n",
    "    pivotvalue = arr[first]\n",
    "\n",
    "    leftmark = first+1\n",
    "    rightmark = last\n",
    "\n",
    "    done = False\n",
    "    while not done:\n",
    "\n",
    "        while leftmark <= rightmark and arr[leftmark] <= pivotvalue:\n",
    "            leftmark = leftmark + 1\n",
    "\n",
    "        while arr[rightmark] >= pivotvalue and rightmark >= leftmark:\n",
    "            rightmark = rightmark -1\n",
    "\n",
    "        if rightmark < leftmark:\n",
    "            done = True\n",
    "        else:\n",
    "            temp = arr[leftmark]\n",
    "            arr[leftmark] = arr[rightmark]\n",
    "            arr[rightmark] = temp\n",
    "\n",
    "    temp = arr[first]\n",
    "    arr[first] = arr[rightmark]\n",
    "    arr[rightmark] = temp\n",
    "\n",
    "\n",
    "    return rightmark"
   ]
  },
  {
   "cell_type": "code",
   "execution_count": 8,
   "metadata": {},
   "outputs": [
    {
     "data": {
      "text/plain": [
       "[1, 2, 3, 4, 4, 5, 6, 7, 11, 12]"
      ]
     },
     "execution_count": 8,
     "metadata": {},
     "output_type": "execute_result"
    }
   ],
   "source": [
    "arr = [2,5,4,6,7,3,1,4,12,11]\n",
    "quick_sort(arr)\n",
    "arr"
   ]
  },
  {
   "cell_type": "code",
   "execution_count": null,
   "metadata": {},
   "outputs": [],
   "source": []
  }
 ],
 "metadata": {
  "kernelspec": {
   "display_name": "Python 3",
   "language": "python",
   "name": "python3"
  },
  "language_info": {
   "codemirror_mode": {
    "name": "ipython",
    "version": 3
   },
   "file_extension": ".py",
   "mimetype": "text/x-python",
   "name": "python",
   "nbconvert_exporter": "python",
   "pygments_lexer": "ipython3",
   "version": "3.6.5"
  }
 },
 "nbformat": 4,
 "nbformat_minor": 2
}
